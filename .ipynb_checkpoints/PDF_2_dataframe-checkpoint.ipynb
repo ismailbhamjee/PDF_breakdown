{
 "cells": [
  {
   "cell_type": "code",
   "execution_count": 1,
   "id": "6e4508bd",
   "metadata": {},
   "outputs": [],
   "source": [
    "from PyPDF2 import PdfReader\n",
    "\n",
    "reader = PdfReader(\"part1.pdf\")\n"
   ]
  },
  {
   "cell_type": "code",
   "execution_count": null,
   "id": "e88ea922",
   "metadata": {},
   "outputs": [],
   "source": []
  },
  {
   "cell_type": "code",
   "execution_count": 2,
   "id": "32823abb",
   "metadata": {},
   "outputs": [],
   "source": [
    "import pandas as pd "
   ]
  },
  {
   "cell_type": "code",
   "execution_count": 3,
   "id": "56257a54",
   "metadata": {},
   "outputs": [],
   "source": [
    "\n",
    "df = pd.DataFrame(columns=['text', 'page_number'])"
   ]
  },
  {
   "cell_type": "code",
   "execution_count": 4,
   "id": "1b8f59e1",
   "metadata": {},
   "outputs": [],
   "source": [
    "## for loop\n",
    "text = []\n",
    "number = []\n",
    "for x in range(723):\n",
    "    page = reader.pages[x]\n",
    "    text.append(page.extract_text())\n",
    "    number.append(x)\n",
    "    #print(x)\n",
    "    \n",
    "    \n",
    "    "
   ]
  },
  {
   "cell_type": "code",
   "execution_count": 11,
   "id": "a75adca1",
   "metadata": {},
   "outputs": [
    {
     "data": {
      "text/plain": [
       "'lxxviii APPENDIX .\\nTheauthor says,—And ’Abdu -l-hamíd IbnHamíd said,ontheauthority ofhisfather ,that\\nwhen Músa penetrated intotheenemy\\'s territory ,andwent beyond Saragossa ,hismenbegan\\ntomurmur ,andsaid tohim,“Whither dost thou take us?Wehave gone farenough ;we\\n“aresatisfied with thespoil wehave collected .”Towhich Músa answered ,“Did\\'Okbah\\n“IbnNáfi\\'or\\'Abdullah ever stopinthecareer oftheir conquests ?”Itmust beremarked\\nthat,onhisentering Eastern Africa ,Músa hadbeen heard tosay,alluding tohisprede\\ncessors incommand ,\\'Okbah IbnNáfi\\'and\\'Abdullah ,“that they hadcertainly exposed\\n“themselves toimminent peril,bypenetrating sofarintocountries where theyhadtomeet\\n“enemies right andleft,infront andattheback,especially astheyhadnotwiththem aman\\n“inwhom they could trust asafaithful andexperienced guide .”Sothatwhen hewasheard\\ntoexpress theabove sentiments ,Hansh As-san’ání ,whowasatábi\\',andoneofthemost\\nvirtuous meninthearmy,came outoftheranks ,andtaking Músa\\'s horse bythebridle ,thus\\naddressed hisgeneral :“OAmír !Ihave heard theesay,thatupon oneoccasion \\'Okbah Ibn\\nNáfi\\',whom Iknew,hadexposed himself andmen tocertain ruin bynothaving asure\\nguide totakehimthrough theenemy\\'s country .Itshall notbesowith thee,forIwillbe\\nthyguide ,Iwillconduct thee wherever thou wishest togo,beittogooutofthisworld ,or\\n“insearch ofconquests stillmore splendid andmore fraught withdanger thanthose which\\n“Godhasalready granted thee.ButImust notconceal from thee thatIhave heard from\\n“themouth ofthemen what thou never didst hear;they have filled their hands with\\nplunder ,andnow they wish forrest.\"The author continues ,-When Músa heard\\nHansh speak thus heburst outlaughing ,andsaid,“May God direct thee,OHansh !“andmake many Moslems likethee;\"afterwhich heordered hismentomarch andreturnintoAndalus ,notwithout exclaiming first,“ByAllah !hadthemen chosen tofollow me,\\n“Iwould haveledthem totheverywalls ofRome ,andGodwould ,Ihavenodoubt ,have\\ngranted usthevictory .”66\\n6\\n66 »50\\nMúsa quits Andalus .\\nTheauthor ofthetradition says,—And they relate that’Abdu -r-rahmán IbnSalim ,who\\nwasinAndalus with Músa ,toldthem “Músa stayed inAndalus theremainder ofthatyear\\n“(93),and some months oftheyear 94;inthemeanwhile letters hadreached Al-walid ,\\n“purporting ,“These are,0Commander oftheFaithful !notlikeconquests ;theyarelike\\n“themeeting ofmankind onthedayofjudgment .\\'Músa thenbegan hismarch ,taking\\nalong withhimthesonsoftheGothic kings,andthesons oftheFrankish kings ,andan\\n“immense booty ,consisting ofgold diadems ,andthefamous table,andtherichvases of\\ngoldandsilver,andmany thousands ofmale andfemale slaves ,andjewels beyond compu\\ntation ,andallsorts ofnovelties .Onthisoccasion theprincipal officers ofthearmy also\\n“leftAndalus andaccompanied Músa .”\\n50Seeasinilar adventure toldofTárik .Appendix D.,p.xlix.'"
      ]
     },
     "execution_count": 11,
     "metadata": {},
     "output_type": "execute_result"
    }
   ],
   "source": [
    "text[700]"
   ]
  },
  {
   "cell_type": "code",
   "execution_count": 6,
   "id": "eefd53d7",
   "metadata": {},
   "outputs": [],
   "source": [
    "df = pd.DataFrame({'text': text,'page_number': number})"
   ]
  },
  {
   "cell_type": "code",
   "execution_count": 7,
   "id": "42f68562",
   "metadata": {},
   "outputs": [
    {
     "data": {
      "text/html": [
       "<div>\n",
       "<style scoped>\n",
       "    .dataframe tbody tr th:only-of-type {\n",
       "        vertical-align: middle;\n",
       "    }\n",
       "\n",
       "    .dataframe tbody tr th {\n",
       "        vertical-align: top;\n",
       "    }\n",
       "\n",
       "    .dataframe thead th {\n",
       "        text-align: right;\n",
       "    }\n",
       "</style>\n",
       "<table border=\"1\" class=\"dataframe\">\n",
       "  <thead>\n",
       "    <tr style=\"text-align: right;\">\n",
       "      <th></th>\n",
       "      <th>text</th>\n",
       "      <th>page_number</th>\n",
       "    </tr>\n",
       "  </thead>\n",
       "  <tbody>\n",
       "    <tr>\n",
       "      <th>0</th>\n",
       "      <td>This is a reproduction of a library book that ...</td>\n",
       "      <td>0</td>\n",
       "    </tr>\n",
       "    <tr>\n",
       "      <th>1</th>\n",
       "      <td>32044 012 595 179</td>\n",
       "      <td>1</td>\n",
       "    </tr>\n",
       "    <tr>\n",
       "      <th>2</th>\n",
       "      <td>VERI\\nTAS\\nHARVARD\\nCOLLEGE\\nLIBRARY</td>\n",
       "      <td>2</td>\n",
       "    </tr>\n",
       "    <tr>\n",
       "      <th>3</th>\n",
       "      <td>39</td>\n",
       "      <td>3</td>\n",
       "    </tr>\n",
       "    <tr>\n",
       "      <th>4</th>\n",
       "      <td></td>\n",
       "      <td>4</td>\n",
       "    </tr>\n",
       "    <tr>\n",
       "      <th>...</th>\n",
       "      <td>...</td>\n",
       "      <td>...</td>\n",
       "    </tr>\n",
       "    <tr>\n",
       "      <th>718</th>\n",
       "      <td>܀܀</td>\n",
       "      <td>718</td>\n",
       "    </tr>\n",
       "    <tr>\n",
       "      <th>719</th>\n",
       "      <td></td>\n",
       "      <td>719</td>\n",
       "    </tr>\n",
       "    <tr>\n",
       "      <th>720</th>\n",
       "      <td>1</td>\n",
       "      <td>720</td>\n",
       "    </tr>\n",
       "    <tr>\n",
       "      <th>721</th>\n",
       "      <td>1&gt;</td>\n",
       "      <td>721</td>\n",
       "    </tr>\n",
       "    <tr>\n",
       "      <th>722</th>\n",
       "      <td>**</td>\n",
       "      <td>722</td>\n",
       "    </tr>\n",
       "  </tbody>\n",
       "</table>\n",
       "<p>723 rows × 2 columns</p>\n",
       "</div>"
      ],
      "text/plain": [
       "                                                  text  page_number\n",
       "0    This is a reproduction of a library book that ...            0\n",
       "1                                    32044 012 595 179            1\n",
       "2                 VERI\\nTAS\\nHARVARD\\nCOLLEGE\\nLIBRARY            2\n",
       "3                                                   39            3\n",
       "4                                                                 4\n",
       "..                                                 ...          ...\n",
       "718                                                 ܀܀          718\n",
       "719                                                             719\n",
       "720                                                  1          720\n",
       "721                                                 1>          721\n",
       "722                                                 **          722\n",
       "\n",
       "[723 rows x 2 columns]"
      ]
     },
     "execution_count": 7,
     "metadata": {},
     "output_type": "execute_result"
    }
   ],
   "source": [
    "df"
   ]
  },
  {
   "cell_type": "code",
   "execution_count": 10,
   "id": "c0b13927",
   "metadata": {},
   "outputs": [],
   "source": [
    "#df.to_csv('spain_part_1.csv', index=True, header=True)"
   ]
  },
  {
   "cell_type": "code",
   "execution_count": null,
   "id": "1daa5081",
   "metadata": {},
   "outputs": [],
   "source": []
  }
 ],
 "metadata": {
  "kernelspec": {
   "display_name": "Python 3 (ipykernel)",
   "language": "python",
   "name": "python3"
  },
  "language_info": {
   "codemirror_mode": {
    "name": "ipython",
    "version": 3
   },
   "file_extension": ".py",
   "mimetype": "text/x-python",
   "name": "python",
   "nbconvert_exporter": "python",
   "pygments_lexer": "ipython3",
   "version": "3.8.13"
  }
 },
 "nbformat": 4,
 "nbformat_minor": 5
}
