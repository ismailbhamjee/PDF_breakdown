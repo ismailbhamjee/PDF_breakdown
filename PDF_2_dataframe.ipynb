{
 "cells": [
  {
   "cell_type": "code",
   "execution_count": 10,
   "id": "6e4508bd",
   "metadata": {},
   "outputs": [],
   "source": [
    "from PyPDF2 import PdfReader\n",
    "\n",
    "reader = PdfReader(\"maqqari.pdf\")\n"
   ]
  },
  {
   "cell_type": "code",
   "execution_count": null,
   "id": "e88ea922",
   "metadata": {},
   "outputs": [],
   "source": []
  },
  {
   "cell_type": "code",
   "execution_count": 11,
   "id": "32823abb",
   "metadata": {},
   "outputs": [],
   "source": [
    "import pandas as pd "
   ]
  },
  {
   "cell_type": "code",
   "execution_count": 12,
   "id": "56257a54",
   "metadata": {},
   "outputs": [],
   "source": [
    "\n",
    "df = pd.DataFrame(columns=['text', 'page_number'])"
   ]
  },
  {
   "cell_type": "code",
   "execution_count": 13,
   "id": "1b8f59e1",
   "metadata": {},
   "outputs": [],
   "source": [
    "## for loop\n",
    "text = []\n",
    "number = []\n",
    "for x in range(20):\n",
    "    page = reader.pages[x]\n",
    "    text.append(page.extract_text())\n",
    "    number.append(x)\n",
    "    #print(x)\n",
    "    \n",
    "    \n",
    "    "
   ]
  },
  {
   "cell_type": "code",
   "execution_count": 14,
   "id": "a75adca1",
   "metadata": {},
   "outputs": [
    {
     "data": {
      "text/plain": [
       "\"CONTENTS . ix\\ndecides oncalling Yúsuf tohisaid—Sends him anembassy -Account ofYusuf Ibn Táshefín -His\\nnegotiation with the rulers ofAndalus -His answer tothe ambassadors ofAl-mu'tamed\\nCHAP .VI.\\nYusuf crosses the Strait -Marches toSeville -Preparations ofAlfonso -His dream— His\\nmessage toYusuf -March ofthe Mohammedan army -Arrival atBadajoz -Yusuf's letter to\\nAlfonso -The Christian king tries todeceive the Moslems -His plans known and disconcerted—\\nHis attack upon Al-mu'tamed's camp -Perilous situation ofthat monarch -Yusuf marches tohis\\naid-Extricates him from hisdanger -Takes and plunders theChristian camp -Alfonso iswounded\\ninthethigh -Flees the field ofbattle -Dies ofsorrow and disappointment -Yúsuf visits Seville\\nIsmagnificently entertained bythe king ofthat city -The Almoravides evince adisposition to\\nremain inAndalus —Advice given toAl-mu'tamed -Yusuf's departure forAfrica\\nBOOK VIII .\\nCHAP .I.\\nYusuf again crosses over toAndalus -Lays siege toToledo -Deprives 'Abdullah Ibn Balkín of\\nhisdominions -His generals subdue the rest ofAndalus -Seyr ,the Almoravide ,attacks the King\\nofSaragossa -Takes the castle ofRoda -Dethrones the Kings ofMurcia and Almeria -Puts to\\ndeath Ibn Al-afttas ,King ofBadajoz -Preparations against Al-mu'tamed -Al-mu'tamed besieged\\ninSeville -Implores the aid ofAlfonso -Taking ofSeville bythe Almoravides -Al-mu'tamed is\\nconveyed aprisoner toAfrica -His son 'Abdu -l-jabbár revolts inAndalus -Iskilled inthe attempt\\n-Death ofAl-mu'tamed -Death ofYusuf Ibn Táshefín -Accession of'Alí-His campaigns with\\nthe Christians ofAndalus -Taking ofSaragossa bythe Aragonese -'Alí returns toAndalus—\\nAlfonso I.invades Andalusia -Arrives before Granada -The Christians ofGranada transported to\\nAfrica -'Alígoes toAndalus the fourth time -His death\\nCHAP .II.\\nAccession ofTáshefín Ibn 'Ali-His wars with the Almohades -His death -Conquests ofthe\\nChristians -Formation ofsmall kingdoms -The Almohades invade Andalus -Almeria taken by\\nAlfonso II.ofCastile -Cordova besieged byAlfonso -The Almohades retake Almeria -Account of\\nthe rebel Ibn Mardanish -'Abdu -l-múmen crosses over toAndalus -Builds the castle ofGibraltar\\n-Ibn Humushk takes bysurprise the city ofGranada -Isbesieged bythe Almohades -Makes his\\nsubmission -Death of'Abdu -l-múmen ·\\nCHAP .III.\\nAccession ofYusuf I.-Conquests ofAlfonso Enriquez -Death ofIbn Mardanish -Yusuf lays\\nsiege toToledo -Dies before Santarem -Issucceeded byYa'kúb Al-mansúr -who attacks and\\ndefeats the Christians -Battle ofAlarcos -Death ofYa'kúb -He issucceeded byMohammed\\nAn-násir -The Moslems lose the battle ofAl-'akáb orLas Navas -Itsfatal results -Accession of\\nYusuf II.-'Abdu -l-wáhed -Al-'ádil-Idrís Al-mámún -As-sa'íd —Al-murtadhi -Al-wáthikPAGE\\n260\\n279\\n294\\n308\\n318\""
      ]
     },
     "execution_count": 14,
     "metadata": {},
     "output_type": "execute_result"
    }
   ],
   "source": [
    "text[13]"
   ]
  },
  {
   "cell_type": "code",
   "execution_count": null,
   "id": "eefd53d7",
   "metadata": {},
   "outputs": [],
   "source": [
    "df = pd.DataFrame({'text': text,'page_number': number})"
   ]
  },
  {
   "cell_type": "code",
   "execution_count": null,
   "id": "42f68562",
   "metadata": {},
   "outputs": [],
   "source": [
    "df"
   ]
  },
  {
   "cell_type": "code",
   "execution_count": null,
   "id": "c0b13927",
   "metadata": {},
   "outputs": [],
   "source": [
    "df.to_csv('spain_part_1.csv', index=False, header=True)"
   ]
  },
  {
   "cell_type": "code",
   "execution_count": null,
   "id": "1daa5081",
   "metadata": {},
   "outputs": [],
   "source": []
  }
 ],
 "metadata": {
  "kernelspec": {
   "display_name": "Python 3 (ipykernel)",
   "language": "python",
   "name": "python3"
  },
  "language_info": {
   "codemirror_mode": {
    "name": "ipython",
    "version": 3
   },
   "file_extension": ".py",
   "mimetype": "text/x-python",
   "name": "python",
   "nbconvert_exporter": "python",
   "pygments_lexer": "ipython3",
   "version": "3.8.13"
  }
 },
 "nbformat": 4,
 "nbformat_minor": 5
}
